{
 "cells": [
  {
   "cell_type": "markdown",
   "metadata": {},
   "source": [
    "## Population and Sample"
   ]
  },
  {
   "cell_type": "markdown",
   "metadata": {},
   "source": [
    "| Tipo de análisis | Muestra con reemplazo | Muestra sin reemplazo |\n",
    "|-----------|-----------|-----------|\n",
    "| Estimación de un parámetro (Estadístico)    | ✅ Se usa para simulaciones y modelos de remuestreo (ej. Bootstrap).    | ✅ Se usa en encuestas y estudios    |\n",
    "| Cálculo del parámetro poblaciona | ❌ No se usa porque la población no se repite   | ✅ Solo si se estudia toda la población (ej. censo).    |"
   ]
  },
  {
   "cell_type": "code",
   "execution_count": 1,
   "metadata": {},
   "outputs": [],
   "source": [
    "import pandas as pd\n",
    "import numpy as np"
   ]
  },
  {
   "cell_type": "code",
   "execution_count": 2,
   "metadata": {},
   "outputs": [],
   "source": [
    "# Create a Population DataFrame with 10 data \n",
    "\n",
    "data = pd.DataFrame()\n",
    "data['Population'] = [47, 48, 85, 20, 19, 13, 72, 16, 50, 60]"
   ]
  },
  {
   "cell_type": "markdown",
   "metadata": {},
   "source": [
    "You may get different results from sampling."
   ]
  },
  {
   "cell_type": "code",
   "execution_count": 3,
   "metadata": {},
   "outputs": [
    {
     "name": "stdout",
     "output_type": "stream",
     "text": [
      "2    85\n",
      "7    16\n",
      "7    16\n",
      "2    85\n",
      "1    48\n",
      "Name: Population, dtype: int64\n"
     ]
    }
   ],
   "source": [
    "# Draw sample with replacement, size=5 from Population\n",
    "\n",
    "a_sample_with_replacement = data['Population'].sample(5, replace=True)  # true : with replacement\n",
    "print(a_sample_with_replacement)"
   ]
  },
  {
   "cell_type": "code",
   "execution_count": 4,
   "metadata": {},
   "outputs": [
    {
     "name": "stdout",
     "output_type": "stream",
     "text": [
      "1    48\n",
      "9    60\n",
      "6    72\n",
      "0    47\n",
      "8    50\n",
      "Name: Population, dtype: int64\n"
     ]
    }
   ],
   "source": [
    "# Draw sample without replacement, size=5 from Population\n",
    "\n",
    "a_sample_without_replacement = data['Population'].sample(5, replace=False)   # false : without replacement\n",
    "print(a_sample_without_replacement)"
   ]
  },
  {
   "cell_type": "markdown",
   "metadata": {},
   "source": [
    "# Parameters and Statistics"
   ]
  },
  {
   "cell_type": "markdown",
   "metadata": {},
   "source": [
    "**Parámetros poblaciones**\n",
    "$$\n",
    "\\begin{aligned}\n",
    "\\mu &= \\frac{1}{N} \\sum_{i=1}^{N} X_i \\\\\n",
    "\\sigma^2 &= \\frac{1}{N} \\sum_{i=1}^{N} (X_i - \\mu)^2 \\\\\n",
    "\\sigma &= \\sqrt{\\sigma^2} = \\sqrt{\\frac{1}{N} \\sum_{i=1}^{N} (X_i - \\mu)^2}\n",
    "\\end{aligned}\n",
    "$$"
   ]
  },
  {
   "cell_type": "code",
   "execution_count": 5,
   "metadata": {},
   "outputs": [
    {
     "name": "stdout",
     "output_type": "stream",
     "text": [
      "Population mean is  43.0\n",
      "Population variance is 571.8\n",
      "Population desviation is 23.912339910598458\n"
     ]
    }
   ],
   "source": [
    "# Calculate mean and variance                            # La muestra es la totalidad de la población sin reemplazo\n",
    "population_mean = data['Population'].mean()\n",
    "population_var = data['Population'].var(ddof=0)          #  ddof=0 >  N  Deniminador poblacional\n",
    "population_des = data['Population'].std(ddof=0)\n",
    "\n",
    "print('Population mean is ', population_mean)\n",
    "print('Population variance is', population_var)\n",
    "print('Population desviation is', population_des)"
   ]
  },
  {
   "cell_type": "markdown",
   "metadata": {},
   "source": [
    "**Expected Output: ** Population mean is  43.0\n",
    "Population variance is 571.8\n"
   ]
  },
  {
   "cell_type": "markdown",
   "metadata": {},
   "source": [
    "You may get different result from sampling."
   ]
  },
  {
   "cell_type": "markdown",
   "metadata": {},
   "source": [
    "**Estadísticos Muestrales**  \n",
    "$$\n",
    "\\begin{aligned}\n",
    "\\bar{X} &= \\frac{1}{n} \\sum_{i=1}^{n} X_i \\\\\n",
    "s^2 &= \\frac{1}{n-1} \\sum_{i=1}^{n} (X_i - \\bar{X})^2 \\\\\n",
    "s &= \\sqrt{s^2} = \\sqrt{\\frac{1}{n-1} \\sum_{i=1}^{n} (X_i - \\bar{X})^2}\n",
    "\\end{aligned}\n",
    "$$"
   ]
  },
  {
   "cell_type": "code",
   "execution_count": 6,
   "metadata": {},
   "outputs": [
    {
     "name": "stdout",
     "output_type": "stream",
     "text": [
      "Sample mean is  28.2\n",
      "Sample variance is 374.6222222222222\n",
      "Sample variance is 19.3551600929112\n"
     ]
    }
   ],
   "source": [
    "# Calculate sample mean and sample standard deviation, size =10\n",
    "# You will get different mean and varince every time when you excecute the below code\n",
    "\n",
    "a_sample = data['Population'].sample(10, replace=True)\n",
    "sample_mean = a_sample.mean()\n",
    "sample_var = a_sample.var(ddof=1)                  #  ddof=1 >  n-1  Deniminador poblacional\n",
    "sample_des = a_sample.std(ddof=1)\n",
    "print('Sample mean is ', sample_mean)\n",
    "print('Sample variance is', sample_var)\n",
    "print('Sample variance is', sample_des)"
   ]
  },
  {
   "cell_type": "markdown",
   "metadata": {},
   "source": [
    "**Average of an unbiased estimator - estimador insesgado**"
   ]
  },
  {
   "cell_type": "markdown",
   "metadata": {},
   "source": [
    "El promedio de un estimador insesgado simplemente significa que, si repetimos el experimento muchas veces y promediamos las estimaciones, obtendremos el verdadero valor del parámetro poblacional."
   ]
  },
  {
   "cell_type": "code",
   "execution_count": 7,
   "metadata": {},
   "outputs": [],
   "source": [
    "sample_length = 500\n",
    "sample_variance_collection0=[data['Population'].\n",
    "                            sample(50, replace=True).\n",
    "                            var(ddof=0) \n",
    "                            for i in range(sample_length)]"
   ]
  },
  {
   "cell_type": "code",
   "execution_count": 8,
   "metadata": {},
   "outputs": [],
   "source": [
    "sample_length = 500\n",
    "sample_variance_collection1=[data['Population'].\n",
    "                            sample(50, replace=True).\n",
    "                            var(ddof=1) \n",
    "                            for i in range(sample_length)]"
   ]
  },
  {
   "cell_type": "code",
   "execution_count": 9,
   "metadata": {},
   "outputs": [
    {
     "name": "stdout",
     "output_type": "stream",
     "text": [
      "Population variance is  571.8\n",
      "Average of sample variance with n is 562.0496648000001\n",
      "Average of sample variance with n-1 is 568.7300236734694\n"
     ]
    }
   ],
   "source": [
    "print('Population variance is ',data['Population'].var(ddof=0))\n",
    "print('Average of sample variance with n is', pd.DataFrame(sample_variance_collection0)[0].mean())\n",
    "print('Average of sample variance with n-1 is', pd.DataFrame(sample_variance_collection1)[0].mean())"
   ]
  }
 ],
 "metadata": {
  "kernelspec": {
   "display_name": "Python 3 (ipykernel)",
   "language": "python",
   "name": "python3"
  },
  "language_info": {
   "codemirror_mode": {
    "name": "ipython",
    "version": 3
   },
   "file_extension": ".py",
   "mimetype": "text/x-python",
   "name": "python",
   "nbconvert_exporter": "python",
   "pygments_lexer": "ipython3",
   "version": "3.9.21"
  }
 },
 "nbformat": 4,
 "nbformat_minor": 4
}
