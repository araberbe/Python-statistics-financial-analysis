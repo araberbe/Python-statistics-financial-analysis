{
 "cells": [
  {
   "cell_type": "markdown",
   "metadata": {},
   "source": [
    "# Confidence Interval"
   ]
  },
  {
   "cell_type": "code",
   "execution_count": 1,
   "metadata": {},
   "outputs": [],
   "source": [
    "import pandas as pd\n",
    "import numpy as np\n",
    "from scipy.stats import norm\n",
    "import matplotlib.pyplot as plt"
   ]
  },
  {
   "cell_type": "code",
   "execution_count": 2,
   "metadata": {},
   "outputs": [
    {
     "name": "stdout",
     "output_type": "stream",
     "text": [
      "                  AMZN        DPZ         BTC       NFLX\n",
      "Date                                                    \n",
      "2013-05-01  248.229996  51.190983  106.250000  30.415714\n",
      "2013-05-02  252.550003  51.987320   98.099998  30.641428\n",
      "2013-05-03  258.049988  52.446388  112.900002  30.492857\n",
      "2013-05-06  255.720001  53.205257  109.599998  30.098572\n",
      "2013-05-07  257.730011  54.151505  113.199997  29.464285\n"
     ]
    }
   ],
   "source": [
    "data = pd.read_csv('C:/Users/Usuario/Desktop/proyectos/Analisis_Financiero_1/Datasets/portfolio_data.csv', index_col=0, parse_dates=True)\n",
    "print(data.head())"
   ]
  },
  {
   "cell_type": "markdown",
   "metadata": {},
   "source": [
    "## Estimate the average stock return with 90% Confidence Interval"
   ]
  },
  {
   "cell_type": "code",
   "execution_count": 3,
   "metadata": {},
   "outputs": [
    {
     "data": {
      "text/plain": [
       "Date\n",
       "2013-05-01    0.007394\n",
       "2013-05-02   -0.004860\n",
       "2013-05-03   -0.013015\n",
       "2013-05-06   -0.021299\n",
       "2013-05-07    0.011377\n",
       "                ...   \n",
       "2019-05-08   -0.004456\n",
       "2019-05-09   -0.004725\n",
       "2019-05-10   -0.044691\n",
       "2019-05-13    0.001013\n",
       "2019-05-14         NaN\n",
       "Name: logReturn, Length: 1520, dtype: float64"
      ]
     },
     "execution_count": 3,
     "metadata": {},
     "output_type": "execute_result"
    }
   ],
   "source": [
    "# we will use log return for average stock return of Microsoft\n",
    "\n",
    "data['logReturn'] = np.log(data['NFLX'].shift(-1)) - np.log(data['NFLX'])\n",
    "data['logReturn']"
   ]
  },
  {
   "cell_type": "code",
   "execution_count": 4,
   "metadata": {
    "scrolled": true
   },
   "outputs": [
    {
     "data": {
      "image/png": "[encoded data removed]",
      "text/plain": [
       "<Figure size 600x400 with 1 Axes>"
      ]
     },
     "metadata": {},
     "output_type": "display_data"
    }
   ],
   "source": [
    "data['logReturn'].hist(bins=50, figsize=(6, 4))   # bins : intervalos en los que se divide el rango de datos para contar las frecuencias de los valores.\n",
    "plt.show()"
   ]
  },
  {
   "cell_type": "markdown",
   "metadata": {},
   "source": [
    "**Intervalo de Confianza del 90%**\n",
    "\n",
    "Este intervalo te da un rango dentro del cual, con un 90% de certeza, se espera que caiga el valor real de un parámetro (como el rendimiento de las ganancias de una empresa). En otras palabras, si repites el cálculo muchas veces, en el 90% de los casos el valor real estará dentro de este intervalo.\n",
    "\n",
    "**Nivel de Significancia del 10%**\n",
    "\n",
    "El nivel de significancia (α) es la probabilidad de que el valor real esté fuera del intervalo de confianza. En este caso, 10% significa que hay un 10% de probabilidad de que el valor real no esté dentro del intervalo y esté fuera de los límites."
   ]
  },
  {
   "cell_type": "markdown",
   "metadata": {},
   "source": [
    "El nivel de significancia (α) de una prueba estadística se refiere a la probabilidad de cometer un error tipo I (rechazar una hipótesis nula que es verdadera). Este nivel de significancia se distribuye generalmente entre las colas de una distribución de probabilidad, dependiendo del tipo de prueba que estamos realizando"
   ]
  },
  {
   "cell_type": "markdown",
   "metadata": {},
   "source": [
    "¿El 5% inferior de la cola y el 5% superior de la cola se interpretan de la misma manera?\n",
    "En términos generales, sí, pero con matices importantes dependiendo del contexto:\n",
    "\n",
    "*-5% Inferior de la Cola:*\n",
    "\n",
    "Este es el lado izquierdo de la distribución, que corresponde al 5% de probabilidad más baja.\n",
    "Si estamos hablando de un intervalo de confianza del 90%, el 5% inferior de la cola corresponde a la probabilidad de que el valor real (por ejemplo, el rendimiento de las ganancias de una empresa) sea menor que el límite inferior del intervalo de confianza.\n",
    "Interpretación: Hay un 5% de probabilidad de que el valor real esté por debajo de este límite inferior.\n",
    "\n",
    "*-5% Superior de la Cola:*\n",
    "\n",
    "Este es el lado derecho de la distribución, que corresponde al 5% de probabilidad más alta.\n",
    "En el mismo intervalo de confianza del 90%, el 5% superior de la cola corresponde a la probabilidad de que el valor real sea mayor que el límite superior del intervalo de confianza.\n",
    "Interpretación: Hay un 5% de probabilidad de que el valor real esté por encima de este límite superior."
   ]
  },
  {
   "cell_type": "code",
   "execution_count": 5,
   "metadata": {},
   "outputs": [],
   "source": [
    "# Lets build 90% confidence interval for log return\n",
    "sample_size = data['logReturn'].shape[0]\n",
    "sample_mean = data['logReturn'].mean()\n",
    "sample_std = data['logReturn'].std(ddof=1) / sample_size**0.5\n",
    "\n",
    "# left and right quantile\n",
    "z_left = norm.ppf(0.1)\n",
    "z_right = norm.ppf(0.9)\n",
    "\n",
    "# upper and lower bound\n",
    "interval_left = sample_mean+z_left*sample_std\n",
    "interval_right = sample_mean+z_right*sample_std"
   ]
  },
  {
   "cell_type": "code",
   "execution_count": 6,
   "metadata": {},
   "outputs": [
    {
     "name": "stdout",
     "output_type": "stream",
     "text": [
      "sample_size =  1520\n",
      "sample_mean =  0.0015999681010789339\n",
      "sample_std =  0.0006810790678050396\n",
      "********************************************\n",
      "90% confidence interval is: interval_left = 0.0007271301554737284 interval_right = 0.0024728060466841393\n"
     ]
    }
   ],
   "source": [
    "# 90% confidence interval tells you that there will be 90% chance that the average stock return lies between \"interval_left\"\n",
    "# and \"interval_right\".\n",
    "\n",
    "print(\"sample_size = \",sample_size)\n",
    "print(\"sample_mean = \",sample_mean)\n",
    "print(\"sample_std = \",sample_std)\n",
    "print(\"********************************************\")\n",
    "print(\"90% confidence interval is: interval_left =\",interval_left,\"interval_right =\",interval_right)"
   ]
  },
  {
   "cell_type": "markdown",
   "metadata": {},
   "source": [
    "** Expected output: ** 90% confidence interval is  (-1.5603253899378836e-05, 0.001656066226145423)"
   ]
  },
  {
   "cell_type": "code",
   "execution_count": null,
   "metadata": {},
   "outputs": [],
   "source": []
  }
 ],
 "metadata": {
  "kernelspec": {
   "display_name": "Python 3 (ipykernel)",
   "language": "python",
   "name": "python3"
  },
  "language_info": {
   "codemirror_mode": {
    "name": "ipython",
    "version": 3
   },
   "file_extension": ".py",
   "mimetype": "text/x-python",
   "name": "python",
   "nbconvert_exporter": "python",
   "pygments_lexer": "ipython3",
   "version": "3.9.21"
  }
 },
 "nbformat": 4,
 "nbformat_minor": 4
}
