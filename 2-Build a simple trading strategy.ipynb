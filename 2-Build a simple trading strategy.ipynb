{
 "cells": [
  {
   "cell_type": "markdown",
   "metadata": {},
   "source": [
    "## Build a simple trading strategy "
   ]
  },
  {
   "cell_type": "code",
   "execution_count": 2,
   "metadata": {},
   "outputs": [],
   "source": [
    "import pandas as pd\n",
    "import matplotlib.pyplot as plt\n",
    "%matplotlib inline"
   ]
  },
  {
   "cell_type": "markdown",
   "metadata": {},
   "source": [
    "### 1. Munging the stock data and add two columns - MA10 and MA50"
   ]
  },
  {
   "cell_type": "code",
   "execution_count": 4,
   "metadata": {},
   "outputs": [
    {
     "data": {
      "text/html": [
       "<div>\n",
       "<style scoped>\n",
       "    .dataframe tbody tr th:only-of-type {\n",
       "        vertical-align: middle;\n",
       "    }\n",
       "\n",
       "    .dataframe tbody tr th {\n",
       "        vertical-align: top;\n",
       "    }\n",
       "\n",
       "    .dataframe thead th {\n",
       "        text-align: right;\n",
       "    }\n",
       "</style>\n",
       "<table border=\"1\" class=\"dataframe\">\n",
       "  <thead>\n",
       "    <tr style=\"text-align: right;\">\n",
       "      <th></th>\n",
       "      <th>AMZN</th>\n",
       "      <th>DPZ</th>\n",
       "      <th>BTC</th>\n",
       "      <th>NFLX</th>\n",
       "      <th>A10</th>\n",
       "      <th>A50</th>\n",
       "    </tr>\n",
       "    <tr>\n",
       "      <th>Date</th>\n",
       "      <th></th>\n",
       "      <th></th>\n",
       "      <th></th>\n",
       "      <th></th>\n",
       "      <th></th>\n",
       "      <th></th>\n",
       "    </tr>\n",
       "  </thead>\n",
       "  <tbody>\n",
       "    <tr>\n",
       "      <th>2013-07-11</th>\n",
       "      <td>299.660004</td>\n",
       "      <td>59.221333</td>\n",
       "      <td>93.989998</td>\n",
       "      <td>34.881428</td>\n",
       "      <td>286.509000</td>\n",
       "      <td>271.437999</td>\n",
       "    </tr>\n",
       "    <tr>\n",
       "      <th>2013-07-12</th>\n",
       "      <td>307.549988</td>\n",
       "      <td>59.531540</td>\n",
       "      <td>98.320000</td>\n",
       "      <td>36.751427</td>\n",
       "      <td>289.509000</td>\n",
       "      <td>272.624399</td>\n",
       "    </tr>\n",
       "    <tr>\n",
       "      <th>2013-07-15</th>\n",
       "      <td>306.570007</td>\n",
       "      <td>59.794746</td>\n",
       "      <td>97.099998</td>\n",
       "      <td>36.854286</td>\n",
       "      <td>292.397000</td>\n",
       "      <td>273.704799</td>\n",
       "    </tr>\n",
       "    <tr>\n",
       "      <th>2013-07-16</th>\n",
       "      <td>306.869995</td>\n",
       "      <td>59.371735</td>\n",
       "      <td>98.500000</td>\n",
       "      <td>37.211430</td>\n",
       "      <td>294.873999</td>\n",
       "      <td>274.681199</td>\n",
       "    </tr>\n",
       "    <tr>\n",
       "      <th>2013-07-17</th>\n",
       "      <td>308.690002</td>\n",
       "      <td>59.268330</td>\n",
       "      <td>90.070000</td>\n",
       "      <td>38.274284</td>\n",
       "      <td>297.369998</td>\n",
       "      <td>275.740599</td>\n",
       "    </tr>\n",
       "  </tbody>\n",
       "</table>\n",
       "</div>"
      ],
      "text/plain": [
       "                  AMZN        DPZ        BTC       NFLX         A10  \\\n",
       "Date                                                                  \n",
       "2013-07-11  299.660004  59.221333  93.989998  34.881428  286.509000   \n",
       "2013-07-12  307.549988  59.531540  98.320000  36.751427  289.509000   \n",
       "2013-07-15  306.570007  59.794746  97.099998  36.854286  292.397000   \n",
       "2013-07-16  306.869995  59.371735  98.500000  37.211430  294.873999   \n",
       "2013-07-17  308.690002  59.268330  90.070000  38.274284  297.369998   \n",
       "\n",
       "                   A50  \n",
       "Date                    \n",
       "2013-07-11  271.437999  \n",
       "2013-07-12  272.624399  \n",
       "2013-07-15  273.704799  \n",
       "2013-07-16  274.681199  \n",
       "2013-07-17  275.740599  "
      ]
     },
     "execution_count": 4,
     "metadata": {},
     "output_type": "execute_result"
    }
   ],
   "source": [
    "#import FB's stock data, add two columns - MA10 and MA50\n",
    "#use dropna to remove any \"Not a Number\" data\n",
    "data = pd.read_csv('C:/Users/Usuario/Desktop/proyectos/Analisis_Financiero_1/Datasets/portfolio_data.csv', index_col=0, parse_dates=True)\n",
    "data['A10'] = data['AMZN'].rolling(10).mean() # fast signal\n",
    "data['A50'] = data['AMZN'].rolling(50).mean() # slow signal\n",
    "data = data.dropna()\n",
    "data.head()"
   ]
  },
  {
   "cell_type": "markdown",
   "metadata": {},
   "source": [
    "### 2. Add \"Shares\" column to make decisions base on the strategy "
   ]
  },
  {
   "cell_type": "markdown",
   "metadata": {},
   "source": [
    "Cuando la media móvil rápida (A10) cruza hacia arriba la media móvil lenta (A50), esto indica que el precio está ganando impulso alcista."
   ]
  },
  {
   "cell_type": "markdown",
   "metadata": {},
   "source": [
    "- Media móvil rápida (A10): Es el promedio de los últimos 10 días. **Reacciona más rápido** a los cambios de precio.\n",
    "\n",
    "- Media móvil lenta (A50): Es el promedio de los últimos 50 días. Se mueve **más lentamente** y refleja la tendencia a largo plazo."
   ]
  },
  {
   "cell_type": "code",
   "execution_count": 6,
   "metadata": {},
   "outputs": [],
   "source": [
    "#Add a new column \"Shares\", if A10>A50, denote as 1 (long one share of stock), otherwise, denote as 0 (do nothing)\n",
    "\n",
    "data['Shares'] = [1 if data.loc[ei, 'A10']>data.loc[ei, 'A50'] else 0 for ei in data.index]"
   ]
  },
  {
   "cell_type": "code",
   "execution_count": 7,
   "metadata": {},
   "outputs": [
    {
     "data": {
      "text/plain": [
       "<matplotlib.lines.Line2D at 0x29415f75c40>"
      ]
     },
     "execution_count": 7,
     "metadata": {},
     "output_type": "execute_result"
    },
    {
     "data": {
      "image/png": "[encoded data removed]",
      "text/plain": [
       "<Figure size 640x480 with 1 Axes>"
      ]
     },
     "metadata": {},
     "output_type": "display_data"
    }
   ],
   "source": [
    "#Add a new column \"Profit\" using List Comprehension, for any rows in fb, if Shares=1, the profit is calculated as the close price of \n",
    "#tomorrow - the close price of today. Otherwise the profit is 0.\n",
    "\n",
    "#Plot a graph to show the Profit/Loss          Profit > 0 Ganacia    Profit < 0 Perdida\n",
    "\n",
    "data['AMZN_1'] = data['AMZN'].shift(-1)\n",
    "data['Profit'] = [data.loc[ei, 'AMZN_1'] - data.loc[ei, 'AMZN'] if data.loc[ei, 'Shares']==1 else 0 for ei in data.index]\n",
    "data['Profit'].plot()     # fb['Profit'].plot(legend=True)\n",
    "plt.axhline(y=0, color='red')"
   ]
  },
  {
   "cell_type": "markdown",
   "metadata": {},
   "source": [
    "### 3. Use .cumsum() to display our model's performance if we follow the strategy "
   ]
  },
  {
   "cell_type": "code",
   "execution_count": 8,
   "metadata": {},
   "outputs": [
    {
     "data": {
      "text/html": [
       "<div>\n",
       "<style scoped>\n",
       "    .dataframe tbody tr th:only-of-type {\n",
       "        vertical-align: middle;\n",
       "    }\n",
       "\n",
       "    .dataframe tbody tr th {\n",
       "        vertical-align: top;\n",
       "    }\n",
       "\n",
       "    .dataframe thead th {\n",
       "        text-align: right;\n",
       "    }\n",
       "</style>\n",
       "<table border=\"1\" class=\"dataframe\">\n",
       "  <thead>\n",
       "    <tr style=\"text-align: right;\">\n",
       "      <th></th>\n",
       "      <th>AMZN</th>\n",
       "      <th>DPZ</th>\n",
       "      <th>BTC</th>\n",
       "      <th>NFLX</th>\n",
       "      <th>A10</th>\n",
       "      <th>A50</th>\n",
       "      <th>Shares</th>\n",
       "      <th>AMZN_1</th>\n",
       "      <th>Profit</th>\n",
       "      <th>wealth</th>\n",
       "    </tr>\n",
       "    <tr>\n",
       "      <th>Date</th>\n",
       "      <th></th>\n",
       "      <th></th>\n",
       "      <th></th>\n",
       "      <th></th>\n",
       "      <th></th>\n",
       "      <th></th>\n",
       "      <th></th>\n",
       "      <th></th>\n",
       "      <th></th>\n",
       "      <th></th>\n",
       "    </tr>\n",
       "  </thead>\n",
       "  <tbody>\n",
       "    <tr>\n",
       "      <th>2019-05-08</th>\n",
       "      <td>1917.770020</td>\n",
       "      <td>283.149994</td>\n",
       "      <td>6171.959961</td>\n",
       "      <td>364.369995</td>\n",
       "      <td>1928.195007</td>\n",
       "      <td>1804.152398</td>\n",
       "      <td>1</td>\n",
       "      <td>1899.869995</td>\n",
       "      <td>-17.900025</td>\n",
       "      <td>1456.269987</td>\n",
       "    </tr>\n",
       "    <tr>\n",
       "      <th>2019-05-09</th>\n",
       "      <td>1899.869995</td>\n",
       "      <td>282.160004</td>\n",
       "      <td>6358.290039</td>\n",
       "      <td>362.750000</td>\n",
       "      <td>1927.957007</td>\n",
       "      <td>1809.327998</td>\n",
       "      <td>1</td>\n",
       "      <td>1889.979980</td>\n",
       "      <td>-9.890015</td>\n",
       "      <td>1446.379972</td>\n",
       "    </tr>\n",
       "    <tr>\n",
       "      <th>2019-05-10</th>\n",
       "      <td>1889.979980</td>\n",
       "      <td>278.369995</td>\n",
       "      <td>7191.359863</td>\n",
       "      <td>361.040009</td>\n",
       "      <td>1921.892004</td>\n",
       "      <td>1814.330999</td>\n",
       "      <td>1</td>\n",
       "      <td>1822.680054</td>\n",
       "      <td>-67.299926</td>\n",
       "      <td>1379.080046</td>\n",
       "    </tr>\n",
       "    <tr>\n",
       "      <th>2019-05-13</th>\n",
       "      <td>1822.680054</td>\n",
       "      <td>273.880005</td>\n",
       "      <td>7980.129883</td>\n",
       "      <td>345.260010</td>\n",
       "      <td>1910.317004</td>\n",
       "      <td>1817.350000</td>\n",
       "      <td>1</td>\n",
       "      <td>1840.119995</td>\n",
       "      <td>17.439941</td>\n",
       "      <td>1396.519987</td>\n",
       "    </tr>\n",
       "    <tr>\n",
       "      <th>2019-05-14</th>\n",
       "      <td>1840.119995</td>\n",
       "      <td>272.859985</td>\n",
       "      <td>8183.830078</td>\n",
       "      <td>345.609985</td>\n",
       "      <td>1901.677002</td>\n",
       "      <td>1820.228999</td>\n",
       "      <td>1</td>\n",
       "      <td>NaN</td>\n",
       "      <td>NaN</td>\n",
       "      <td>NaN</td>\n",
       "    </tr>\n",
       "  </tbody>\n",
       "</table>\n",
       "</div>"
      ],
      "text/plain": [
       "                   AMZN         DPZ          BTC        NFLX          A10  \\\n",
       "Date                                                                        \n",
       "2019-05-08  1917.770020  283.149994  6171.959961  364.369995  1928.195007   \n",
       "2019-05-09  1899.869995  282.160004  6358.290039  362.750000  1927.957007   \n",
       "2019-05-10  1889.979980  278.369995  7191.359863  361.040009  1921.892004   \n",
       "2019-05-13  1822.680054  273.880005  7980.129883  345.260010  1910.317004   \n",
       "2019-05-14  1840.119995  272.859985  8183.830078  345.609985  1901.677002   \n",
       "\n",
       "                    A50  Shares       AMZN_1     Profit       wealth  \n",
       "Date                                                                  \n",
       "2019-05-08  1804.152398       1  1899.869995 -17.900025  1456.269987  \n",
       "2019-05-09  1809.327998       1  1889.979980  -9.890015  1446.379972  \n",
       "2019-05-10  1814.330999       1  1822.680054 -67.299926  1379.080046  \n",
       "2019-05-13  1817.350000       1  1840.119995  17.439941  1396.519987  \n",
       "2019-05-14  1820.228999       1          NaN        NaN          NaN  "
      ]
     },
     "execution_count": 8,
     "metadata": {},
     "output_type": "execute_result"
    }
   ],
   "source": [
    "#Use .cumsum() to calculate the accumulated wealth over the period\n",
    "\n",
    "data['wealth'] = data['Profit'].cumsum()   #Suma acumlada\n",
    "data.tail()"
   ]
  },
  {
   "cell_type": "code",
   "execution_count": 9,
   "metadata": {},
   "outputs": [
    {
     "data": {
      "text/plain": [
       "Text(0.5, 1.0, 'Total money you win is 1396.519987')"
      ]
     },
     "execution_count": 9,
     "metadata": {},
     "output_type": "execute_result"
    },
    {
     "data": {
      "image/png": "[encoded data removed]",
      "text/plain": [
       "<Figure size 640x480 with 1 Axes>"
      ]
     },
     "metadata": {},
     "output_type": "display_data"
    }
   ],
   "source": [
    "#plot the wealth to show the growth of profit over the period\n",
    "\n",
    "data['wealth'].plot()   # fb['Profit'].plot(legend=True)\n",
    "plt.title('Total money you win is {}'.format(data.loc[data.index[-2], 'wealth']))"
   ]
  },
  {
   "cell_type": "markdown",
   "metadata": {},
   "source": [
    "Esta notebook implementa una estrategia de trading simple basada en medias móviles para evaluar oportunidades de compra y venta de acciones. Se observa que el cruce de la media rápida sobre la lenta puede generar señales de inversión, cuyo rendimiento se mide a través de la riqueza acumulada. La estrategia permite visualizar tendencias y evaluar su rentabilidad con herramientas de análisis de datos."
   ]
  },
  {
   "cell_type": "code",
   "execution_count": null,
   "metadata": {},
   "outputs": [],
   "source": []
  }
 ],
 "metadata": {
  "kernelspec": {
   "display_name": "Python 3 (ipykernel)",
   "language": "python",
   "name": "python3"
  },
  "language_info": {
   "codemirror_mode": {
    "name": "ipython",
    "version": 3
   },
   "file_extension": ".py",
   "mimetype": "text/x-python",
   "name": "python",
   "nbconvert_exporter": "python",
   "pygments_lexer": "ipython3",
   "version": "3.9.21"
  }
 },
 "nbformat": 4,
 "nbformat_minor": 4
}
