{
 "cells": [
  {
   "cell_type": "markdown",
   "metadata": {},
   "source": [
    "**Evaluating strategy built from Regression model**"
   ]
  },
  {
   "cell_type": "code",
   "execution_count": 1,
   "metadata": {},
   "outputs": [],
   "source": [
    "import statsmodels.formula.api as smf\n",
    "import pandas as pd\n",
    "import numpy as np\n",
    "import matplotlib.pyplot as plt\n",
    "%matplotlib inline"
   ]
  },
  {
   "cell_type": "code",
   "execution_count": 2,
   "metadata": {},
   "outputs": [],
   "source": [
    "import warnings\n",
    "warnings.filterwarnings(\"ignore\")"
   ]
  },
  {
   "cell_type": "code",
   "execution_count": 4,
   "metadata": {
    "scrolled": true
   },
   "outputs": [
    {
     "data": {
      "text/html": [
       "<div>\n",
       "<style scoped>\n",
       "    .dataframe tbody tr th:only-of-type {\n",
       "        vertical-align: middle;\n",
       "    }\n",
       "\n",
       "    .dataframe tbody tr th {\n",
       "        vertical-align: top;\n",
       "    }\n",
       "\n",
       "    .dataframe thead th {\n",
       "        text-align: right;\n",
       "    }\n",
       "</style>\n",
       "<table border=\"1\" class=\"dataframe\">\n",
       "  <thead>\n",
       "    <tr style=\"text-align: right;\">\n",
       "      <th></th>\n",
       "      <th>spy</th>\n",
       "      <th>spy_lag1</th>\n",
       "      <th>MSCI</th>\n",
       "      <th>SPDR</th>\n",
       "      <th>EZU</th>\n",
       "      <th>EWJ</th>\n",
       "      <th>QQQ</th>\n",
       "      <th>sp500</th>\n",
       "      <th>dji</th>\n",
       "      <th>nasdaq</th>\n",
       "      <th>Price</th>\n",
       "    </tr>\n",
       "    <tr>\n",
       "      <th>Fecha</th>\n",
       "      <th></th>\n",
       "      <th></th>\n",
       "      <th></th>\n",
       "      <th></th>\n",
       "      <th></th>\n",
       "      <th></th>\n",
       "      <th></th>\n",
       "      <th></th>\n",
       "      <th></th>\n",
       "      <th></th>\n",
       "      <th></th>\n",
       "    </tr>\n",
       "  </thead>\n",
       "  <tbody>\n",
       "    <tr>\n",
       "      <th>2021-01-05</th>\n",
       "      <td>7.21</td>\n",
       "      <td>-1.61</td>\n",
       "      <td>-0.62</td>\n",
       "      <td>-0.70</td>\n",
       "      <td>-0.23</td>\n",
       "      <td>0.07</td>\n",
       "      <td>4.86</td>\n",
       "      <td>-14.2</td>\n",
       "      <td>-158.53</td>\n",
       "      <td>-0.50</td>\n",
       "      <td>368.10</td>\n",
       "    </tr>\n",
       "    <tr>\n",
       "      <th>2021-01-06</th>\n",
       "      <td>-1.61</td>\n",
       "      <td>-6.39</td>\n",
       "      <td>-0.61</td>\n",
       "      <td>-1.18</td>\n",
       "      <td>-0.04</td>\n",
       "      <td>0.31</td>\n",
       "      <td>-2.74</td>\n",
       "      <td>-52.5</td>\n",
       "      <td>-538.40</td>\n",
       "      <td>-201.19</td>\n",
       "      <td>369.71</td>\n",
       "    </tr>\n",
       "    <tr>\n",
       "      <th>2021-01-07</th>\n",
       "      <td>-6.39</td>\n",
       "      <td>-4.49</td>\n",
       "      <td>-0.74</td>\n",
       "      <td>-0.14</td>\n",
       "      <td>-0.17</td>\n",
       "      <td>-1.10</td>\n",
       "      <td>-2.36</td>\n",
       "      <td>-50.4</td>\n",
       "      <td>-168.40</td>\n",
       "      <td>-292.88</td>\n",
       "      <td>376.10</td>\n",
       "    </tr>\n",
       "    <tr>\n",
       "      <th>2021-01-08</th>\n",
       "      <td>-4.49</td>\n",
       "      <td>2.74</td>\n",
       "      <td>0.94</td>\n",
       "      <td>0.47</td>\n",
       "      <td>0.98</td>\n",
       "      <td>0.88</td>\n",
       "      <td>3.05</td>\n",
       "      <td>12.0</td>\n",
       "      <td>54.21</td>\n",
       "      <td>111.44</td>\n",
       "      <td>380.59</td>\n",
       "    </tr>\n",
       "    <tr>\n",
       "      <th>2021-01-11</th>\n",
       "      <td>2.74</td>\n",
       "      <td>-1.04</td>\n",
       "      <td>0.11</td>\n",
       "      <td>-0.58</td>\n",
       "      <td>0.06</td>\n",
       "      <td>0.07</td>\n",
       "      <td>-0.04</td>\n",
       "      <td>1.5</td>\n",
       "      <td>0.36</td>\n",
       "      <td>-13.28</td>\n",
       "      <td>377.85</td>\n",
       "    </tr>\n",
       "  </tbody>\n",
       "</table>\n",
       "</div>"
      ],
      "text/plain": [
       "             spy  spy_lag1  MSCI  SPDR   EZU   EWJ   QQQ  sp500     dji  \\\n",
       "Fecha                                                                     \n",
       "2021-01-05  7.21     -1.61 -0.62 -0.70 -0.23  0.07  4.86  -14.2 -158.53   \n",
       "2021-01-06 -1.61     -6.39 -0.61 -1.18 -0.04  0.31 -2.74  -52.5 -538.40   \n",
       "2021-01-07 -6.39     -4.49 -0.74 -0.14 -0.17 -1.10 -2.36  -50.4 -168.40   \n",
       "2021-01-08 -4.49      2.74  0.94  0.47  0.98  0.88  3.05   12.0   54.21   \n",
       "2021-01-11  2.74     -1.04  0.11 -0.58  0.06  0.07 -0.04    1.5    0.36   \n",
       "\n",
       "            nasdaq   Price  \n",
       "Fecha                       \n",
       "2021-01-05   -0.50  368.10  \n",
       "2021-01-06 -201.19  369.71  \n",
       "2021-01-07 -292.88  376.10  \n",
       "2021-01-08  111.44  380.59  \n",
       "2021-01-11  -13.28  377.85  "
      ]
     },
     "execution_count": 4,
     "metadata": {},
     "output_type": "execute_result"
    }
   ],
   "source": [
    "indicepanel = pd.read_csv('C:/Users/Usuario/Desktop/proyectos/Analisis_Financiero_1/Datasets/indicepanel2.csv', index_col=0, parse_dates=True)\n",
    "indicepanel.head()"
   ]
  },
  {
   "cell_type": "code",
   "execution_count": 5,
   "metadata": {},
   "outputs": [
    {
     "data": {
      "text/plain": [
       "DatetimeIndex(['2021-01-05', '2021-01-06', '2021-01-07', '2021-01-08',\n",
       "               '2021-01-11', '2021-01-12', '2021-01-13', '2021-01-14',\n",
       "               '2021-01-15', '2021-01-19',\n",
       "               ...\n",
       "               '2025-02-27', '2025-02-28', '2025-03-03', '2025-03-04',\n",
       "               '2025-03-05', '2025-03-06', '2025-03-07', '2025-03-10',\n",
       "               '2025-03-11', '2025-03-12'],\n",
       "              dtype='datetime64[ns]', name='Fecha', length=1056, freq=None)"
      ]
     },
     "execution_count": 5,
     "metadata": {},
     "output_type": "execute_result"
    }
   ],
   "source": [
    "indicepanel.index"
   ]
  },
  {
   "cell_type": "code",
   "execution_count": 6,
   "metadata": {},
   "outputs": [],
   "source": [
    "# split the data into (1)train set and (2)test set\n",
    "Train = indicepanel.iloc[0:500,:]\n",
    "Test = indicepanel.iloc[500:1000,:]"
   ]
  },
  {
   "cell_type": "code",
   "execution_count": 7,
   "metadata": {},
   "outputs": [],
   "source": [
    "formula = 'spy~spy_lag1+sp500+nasdaq+dji+MSCI+SPDR+EZU+EWJ+QQQ' #[MSCI, SPDR, EZU, EWJ, QQQ, sp500, dji, nasdaq, spy]\n",
    "lm = smf.ols(formula=formula, data=Train).fit()"
   ]
  },
  {
   "cell_type": "code",
   "execution_count": 8,
   "metadata": {},
   "outputs": [],
   "source": [
    "Train['PredictedY'] = lm.predict(Train)\n",
    "Test['PredictedY'] = lm.predict(Test)"
   ]
  },
  {
   "cell_type": "markdown",
   "metadata": {},
   "source": [
    "# Profit of Signal-based strategy"
   ]
  },
  {
   "cell_type": "markdown",
   "metadata": {},
   "source": [
    "#### Uso de la Predicción como Señal de Trading\n",
    "\n",
    "Con la predicción del cambio de precio de SPY, se diseñó una estrategia de trading simple:\n",
    "\n",
    "1. Si la predicción del cambio de precio es positiva, tomamos una **posición larga** (compramos una acción de SPY).\n",
    "2. Si la predicción del cambio de precio es negativa, tomamos una **posición corta** (vendemos en corto una acción de SPY).\n",
    "\n",
    "Matemáticamente, la orden de compra/venta se define como:\n",
    "\n",
    "$$ \\text{Orden}(t) = \\begin{cases} \n",
    "1, & \\text{si } \\hat{y}(t) > 0 \\\\\n",
    "-1, & \\text{si } \\hat{y}(t) \\leq 0\n",
    "\\end{cases} $$\n",
    "\n",
    "donde $\\hat{y}(t)$ es la predicción del cambio de precio.\n"
   ]
  },
  {
   "cell_type": "markdown",
   "metadata": {},
   "source": [
    "#### Cálculo de Ganancia Diaria y Riqueza Acumulada\n",
    "\n",
    "La ganancia diaria se calcula como:\n",
    "\n",
    "$$ \\text{Ganancia}(t) = \\text{Orden}(t-1) \\times (P_{open}(t) - P_{open}(t-1)) $$\n",
    "\n",
    "donde $P_{open}(t)$ es el precio de apertura en el día $t$.\n",
    "\n",
    "La riqueza acumulada se obtiene sumando las ganancias diarias:\n",
    "\n",
    "$$ \\text{Riqueza}(t) = \\sum_{i=1}^{t} \\text{Ganancia}(i) $$"
   ]
  },
  {
   "cell_type": "markdown",
   "metadata": {},
   "source": [
    "# Train"
   ]
  },
  {
   "cell_type": "code",
   "execution_count": 9,
   "metadata": {},
   "outputs": [
    {
     "name": "stdout",
     "output_type": "stream",
     "text": [
      "Total profit made in Train:  930.3600000000006\n"
     ]
    }
   ],
   "source": [
    "# Crea columna que indica si se debe comprar (1) o vender (-1) basado en la predicción.\n",
    "Train['Order'] = [1 if sig>0 else -1 for sig in Train['PredictedY']]\n",
    "\n",
    "#Calcula el beneficio diario multiplicando el rendimiento de spy por la señal de compra/venta.\n",
    "Train['Profit'] = Train['spy'] * Train['Order']\n",
    "\n",
    "#Calcula la riqueza acumulada a lo largo del tiempo.\n",
    "Train['Wealth'] = Train['Profit'].cumsum()\n",
    "\n",
    "#Suma todos los beneficios para obtener el beneficio total.\n",
    "print('Total profit made in Train: ', Train['Profit'].sum())"
   ]
  },
  {
   "cell_type": "code",
   "execution_count": 10,
   "metadata": {
    "scrolled": true
   },
   "outputs": [
    {
     "data": {
      "image/png": "[encoded data removed]",
      "text/plain": [
       "<Figure size 500x500 with 1 Axes>"
      ]
     },
     "metadata": {},
     "output_type": "display_data"
    }
   ],
   "source": [
    "#Visualización de Resultados\n",
    "plt.figure(figsize=(5, 5))\n",
    "plt.title('Performance of Strategy in Train') # riqueza acumulada a lo largo del tiempo.\n",
    "plt.plot(Train['Wealth'].values, color='green', label='Signal based strategy')\n",
    "plt.plot(Train['spy'].cumsum().values, color='red', label='Buy and Hold strategy')\n",
    "plt.legend()\n",
    "plt.show()"
   ]
  },
  {
   "cell_type": "markdown",
   "metadata": {},
   "source": [
    "# Test"
   ]
  },
  {
   "cell_type": "code",
   "execution_count": 11,
   "metadata": {},
   "outputs": [
    {
     "name": "stdout",
     "output_type": "stream",
     "text": [
      "Total profit made in Test:  469.19999999999936\n"
     ]
    }
   ],
   "source": [
    "\n",
    "Test['Order'] = [1 if sig>0 else -1 for sig in Test['PredictedY']]\n",
    "Test['Profit'] = Test['spy'] * Test['Order']\n",
    "\n",
    "Test['Wealth'] = Test['Profit'].cumsum()\n",
    "print('Total profit made in Test: ', Test['Profit'].sum())"
   ]
  },
  {
   "cell_type": "code",
   "execution_count": 12,
   "metadata": {
    "scrolled": true
   },
   "outputs": [
    {
     "data": {
      "image/png": "[encoded data removed]",
      "text/plain": [
       "<Figure size 500x500 with 1 Axes>"
      ]
     },
     "metadata": {},
     "output_type": "display_data"
    }
   ],
   "source": [
    "plt.figure(figsize=(5, 5))\n",
    "plt.title('Performance of Strategy in Train')\n",
    "plt.plot(Test['Wealth'].values, color='green', label='Signal based strategy')\n",
    "plt.plot(Test['spy'].cumsum().values, color='red', label='Buy and Hold strategy')\n",
    "plt.legend()\n",
    "plt.show()"
   ]
  },
  {
   "cell_type": "markdown",
   "metadata": {},
   "source": [
    "**Análisis**"
   ]
  },
  {
   "cell_type": "markdown",
   "metadata": {},
   "source": [
    "La estrategia de comprar y mantener no es buena en este caso porque el mercado ha tenido un rendimiento negativo, y esta estrategia no ha podido evitar las pérdidas."
   ]
  },
  {
   "cell_type": "markdown",
   "metadata": {},
   "source": [
    "La estrategia basada en señales es mejor en este caso, ya que ha mitigado las pérdidas al tomar decisiones activas basadas en las predicciones del modelo."
   ]
  },
  {
   "cell_type": "markdown",
   "metadata": {},
   "source": [
    "# Evaluation of model - Practical Standard"
   ]
  },
  {
   "cell_type": "markdown",
   "metadata": {},
   "source": [
    "We introduce two common practical standards - **Sharpe Ratio**, **Maximum Drawdown** to evaluate our model performance\n"
   ]
  },
  {
   "cell_type": "code",
   "execution_count": 13,
   "metadata": {},
   "outputs": [],
   "source": [
    "Train['Wealth'] = Train['Wealth'] + Train.loc[Train.index[0], 'Price']\n",
    "Test['Wealth'] = Test['Wealth'] + Test.loc[Test.index[0], 'Price']"
   ]
  },
  {
   "cell_type": "markdown",
   "metadata": {},
   "source": [
    "### Sharpe Ratio"
   ]
  },
  {
   "cell_type": "markdown",
   "metadata": {},
   "source": [
    "El **ratio de Sharpe** mide el exceso de retorno por unidad de desviación estándar y se define como:\n",
    "\n",
    "$$ S = \\frac{\\mathbb{E}[r - r_f]}{\\sigma} $$\n",
    "\n",
    "donde:\n",
    "- $r$ es el retorno de la estrategia,\n",
    "- $r_f$ es la tasa libre de riesgo,\n",
    "- $\\sigma$ es la desviación estándar de los retornos.\n",
    "\n",
    "El ratio de Sharpe diario se convierte a anual mediante:\n",
    "\n",
    "$$ S_{anual} = S_{diario} \\times \\sqrt{252} $$\n",
    "\n"
   ]
  },
  {
   "cell_type": "markdown",
   "metadata": {},
   "source": [
    "**Interpretación del Ratio de Sharpe:**\n",
    "\n",
    "**-Ratio de Sharpe positivo**: Indica que la inversión está generando un rendimiento superior a la tasa libre de riesgo (como los bonos del gobierno) por unidad de riesgo. Cuanto más alto sea el Ratio de Sharpe, mejor es el rendimiento ajustado al riesgo.\n",
    "\n",
    "**-Ratio de Sharpe negativo**: Indica que la inversión está generando un rendimiento inferior a la tasa libre de riesgo. Esto sugiere que la inversión no está compensando adecuadamente el riesgo asumido."
   ]
  },
  {
   "cell_type": "code",
   "execution_count": 14,
   "metadata": {},
   "outputs": [
    {
     "name": "stdout",
     "output_type": "stream",
     "text": [
      "Daily Sharpe Ratio is  0.38977777627719545\n",
      "Yearly Sharpe Ratio is  6.187530375655384\n"
     ]
    }
   ],
   "source": [
    "# Sharpe Ratio on Train data\n",
    "Train['Return'] = np.log(Train['Wealth']) - np.log(Train['Wealth'].shift(1))\n",
    "dailyr = Train['Return'].dropna()\n",
    "\n",
    "print('Daily Sharpe Ratio is ', dailyr.mean()/dailyr.std(ddof=1))\n",
    "print('Yearly Sharpe Ratio is ', (252**0.5)*dailyr.mean()/dailyr.std(ddof=1))"
   ]
  },
  {
   "cell_type": "code",
   "execution_count": 15,
   "metadata": {
    "scrolled": true
   },
   "outputs": [
    {
     "name": "stdout",
     "output_type": "stream",
     "text": [
      "Daily Sharpe Ratio is  0.2515169292138986\n",
      "Yearly Sharpe Ratio is  3.992707471335673\n"
     ]
    }
   ],
   "source": [
    "# Sharpe Ratio in Test data\n",
    "Test['Return'] = np.log(Test['Wealth']) - np.log(Test['Wealth'].shift(1))\n",
    "dailyr = Test['Return'].dropna()\n",
    "\n",
    "print('Daily Sharpe Ratio is ', dailyr.mean()/dailyr.std(ddof=1))\n",
    "print('Yearly Sharpe Ratio is ', (252**0.5)*dailyr.mean()/dailyr.std(ddof=1))"
   ]
  },
  {
   "cell_type": "markdown",
   "metadata": {},
   "source": [
    "Se puede decir que el rendimiento de la inversión es muy bueno"
   ]
  },
  {
   "cell_type": "markdown",
   "metadata": {},
   "source": [
    "### Maximum Drawdown "
   ]
  },
  {
   "cell_type": "markdown",
   "metadata": {},
   "source": [
    "\n",
    "El **Maximum Drawdown (MDD)**: Mide la mayor caída porcentual desde el pico máximo hasta el valle más bajo en el valor de una cartera o inversión antes de que se recupere a un nuevo pico: \n",
    "\n",
    "$$ \\text{Drawdown}(t) = \\frac{\\text{Riqueza}(t) - \\max_{s \\leq t} \\text{Riqueza}(s)}{\\max_{s \\leq t} \\text{Riqueza}(s)} $$\n",
    "\n",
    "El MDD es el máximo drawdown observado en el periodo de trading.\n",
    "\n",
    "[0-100] Siendo valores cercanos a \"0\" un indicador bueno con perdidas mínimas\n",
    "\n"
   ]
  },
  {
   "cell_type": "code",
   "execution_count": 16,
   "metadata": {},
   "outputs": [
    {
     "name": "stdout",
     "output_type": "stream",
     "text": [
      "Maximum Drawdown in Train is  0.027657088612216538\n"
     ]
    }
   ],
   "source": [
    "# Maximum Drawdown in Train data\n",
    "Train['Peak'] = Train['Wealth'].cummax()\n",
    "Train['Drawdown'] = (Train['Peak'] - Train['Wealth'])/Train['Peak']\n",
    "print('Maximum Drawdown in Train is ', Train['Drawdown'].max())"
   ]
  },
  {
   "cell_type": "code",
   "execution_count": 17,
   "metadata": {},
   "outputs": [
    {
     "name": "stdout",
     "output_type": "stream",
     "text": [
      "Maximum Drawdown in Test is  0.04147159611950385\n"
     ]
    }
   ],
   "source": [
    "# Maximum Drawdown in Test data\n",
    "Test['Peak'] = Test['Wealth'].cummax()\n",
    "Test['Drawdown'] = (Test['Peak'] - Test['Wealth'])/Test['Peak']\n",
    "print('Maximum Drawdown in Test is ', Test['Drawdown'].max())"
   ]
  },
  {
   "cell_type": "markdown",
   "metadata": {},
   "source": [
    "Estos resultados indican que la estrategia mantiene consistencia en términos de riesgo de pérdidas extremas, aunque el retorno por unidad de riesgo no es completamente estable."
   ]
  },
  {
   "cell_type": "code",
   "execution_count": null,
   "metadata": {},
   "outputs": [],
   "source": []
  },
  {
   "cell_type": "code",
   "execution_count": null,
   "metadata": {},
   "outputs": [],
   "source": []
  }
 ],
 "metadata": {
  "kernelspec": {
   "display_name": "Python 3 (ipykernel)",
   "language": "python",
   "name": "python3"
  },
  "language_info": {
   "codemirror_mode": {
    "name": "ipython",
    "version": 3
   },
   "file_extension": ".py",
   "mimetype": "text/x-python",
   "name": "python",
   "nbconvert_exporter": "python",
   "pygments_lexer": "ipython3",
   "version": "3.9.21"
  }
 },
 "nbformat": 4,
 "nbformat_minor": 4
}
