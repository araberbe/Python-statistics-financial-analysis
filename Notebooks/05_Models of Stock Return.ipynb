{
 "cells": [
  {
   "cell_type": "markdown",
   "metadata": {},
   "source": [
    "## Models of Stock Return"
   ]
  },
  {
   "cell_type": "code",
   "execution_count": 1,
   "metadata": {
    "scrolled": true
   },
   "outputs": [
    {
     "name": "stderr",
     "output_type": "stream",
     "text": [
      "UsageError: Line magic function `%` not found.\n"
     ]
    }
   ],
   "source": [
    "import pandas as pd\n",
    "import numpy as np\n",
    "import matplotlib.pyplot as plt\n",
    "% matplotlib inline"
   ]
  },
  {
   "cell_type": "code",
   "execution_count": 2,
   "metadata": {},
   "outputs": [
    {
     "name": "stdout",
     "output_type": "stream",
     "text": [
      "                  AMZN        DPZ         BTC       NFLX\n",
      "Date                                                    \n",
      "2013-05-01  248.229996  51.190983  106.250000  30.415714\n",
      "2013-05-02  252.550003  51.987320   98.099998  30.641428\n",
      "2013-05-03  258.049988  52.446388  112.900002  30.492857\n",
      "2013-05-06  255.720001  53.205257  109.599998  30.098572\n",
      "2013-05-07  257.730011  54.151505  113.199997  29.464285\n"
     ]
    }
   ],
   "source": [
    "# Leer el archivo CSV y establecer la primera columna como índice\n",
    "data = pd.read_csv('C:/Users/Usuario/Desktop/proyectos/Analisis_Financiero_1/Datasets/portfolio_data.csv', index_col=0, parse_dates=True)\n",
    "print(data.head())"
   ]
  },
  {
   "cell_type": "markdown",
   "metadata": {},
   "source": [
    "## Distribution of Log return"
   ]
  },
  {
   "cell_type": "code",
   "execution_count": 3,
   "metadata": {},
   "outputs": [],
   "source": [
    "# let play around with ms data by calculating the log daily return\n",
    "data['LogReturn'] = np.log(data['AMZN']).shift(-1) - np.log(data['AMZN'])\n",
    "\n",
    "#np.log logaritmo natural (base e) de los valores de la serie de precios de las acciones."
   ]
  },
  {
   "cell_type": "code",
   "execution_count": 4,
   "metadata": {},
   "outputs": [
    {
     "data": {
      "image/png": "[encoded data removed]",
      "text/plain": [
       "<Figure size 600x400 with 1 Axes>"
      ]
     },
     "metadata": {},
     "output_type": "display_data"
    }
   ],
   "source": [
    "# Plot a histogram to show the distribution of log return of AMZN's stock. \n",
    "# You can see it is very close to a normal distribution\n",
    "from scipy.stats import norm\n",
    "mu = data['LogReturn'].mean()\n",
    "sigma =data['LogReturn'].std(ddof=1)  # indica que se está calculando la desviación estándar muestral (que utiliza n-1 como denominador)\n",
    "\n",
    "density = pd.DataFrame()\n",
    "density['x'] = np.arange(data['LogReturn'].min()-0.01, data['LogReturn'].max()+0.01, 0.001)   # np.arange(start, stop, step)\n",
    "density['pdf'] = norm.pdf(density['x'], mu, sigma)  # función de densidad de probabilidad (PDF) de una distribución normal (también conocida como distribución gaussiana\n",
    "\n",
    "data['LogReturn'].hist(bins=50, figsize=(6, 4))   # bins : intervalos en los que se divide el rango de datos para contar las frecuencias de los valores.\n",
    "plt.plot(density['x'], density['pdf'], color='red')   # eje horizontal, eje vertical , color\n",
    "plt.show()"
   ]
  },
  {
   "cell_type": "markdown",
   "metadata": {},
   "source": [
    "## Calculate the probability of the stock price will drop over a certain percentage in a day"
   ]
  },
  {
   "cell_type": "code",
   "execution_count": 5,
   "metadata": {},
   "outputs": [
    {
     "name": "stdout",
     "output_type": "stream",
     "text": [
      "The Probability is  0.0033052653239837027 Significa que hay un 0.33052653239837027  % de probabilidad de que el precio de la acción caiga más de un 5% en un solo día.\n"
     ]
    }
   ],
   "source": [
    "# probability that the stock price AMZN will drop over 5% in a day   drop over = caiga por encima\n",
    "\n",
    "prob_return1 = norm.cdf(-0.05, mu, sigma)  \n",
    "# norm.cdf es la función de distribución acumulativa (CDF) de la distribución normal, que nos da la probabilidad acumulada hasta un cierto valor x\n",
    "\n",
    "print('The Probability is ', prob_return1, \"Significa que hay un\", prob_return1*100 , \" % de probabilidad de que el precio de la acción caiga más de un 5% en un solo día.\")"
   ]
  },
  {
   "cell_type": "code",
   "execution_count": 6,
   "metadata": {},
   "outputs": [
    {
     "name": "stdout",
     "output_type": "stream",
     "text": [
      "The Probability is  4.1172375834577225e-08\n"
     ]
    }
   ],
   "source": [
    "# Now is your turn, calculate the probability that the stock price of AMZN will drop over 10% in a day\n",
    "prob_return1 = norm.cdf(-0.1, mu, sigma)\n",
    "print('The Probability is ', prob_return1)"
   ]
  },
  {
   "cell_type": "markdown",
   "metadata": {},
   "source": [
    "## Calculate the probability of the stock price will drop over a certain percentage in a year"
   ]
  },
  {
   "cell_type": "code",
   "execution_count": 7,
   "metadata": {},
   "outputs": [
    {
     "name": "stdout",
     "output_type": "stream",
     "text": [
      "The probability of dropping over 40% in 220 days is  0.006901386639353352\n"
     ]
    }
   ],
   "source": [
    "# drop over 40% in 220 days\n",
    "\n",
    "mu220 = 220*mu                                 # Como los rendimientos se suman : 220*mu\n",
    "sigma220 = (220**0.5) * sigma                  # Las desviaciones estándar no se suman linealmente\n",
    "Distri_Acu = norm.cdf(-0.4, mu220, sigma220)   #función de distribución acumulativa (CDF) de la distribución normal\n",
    "\n",
    "print('The probability of dropping over 40% in 220 days is ', Distri_Acu )"
   ]
  },
  {
   "cell_type": "code",
   "execution_count": 8,
   "metadata": {},
   "outputs": [
    {
     "name": "stdout",
     "output_type": "stream",
     "text": [
      "The probability of dropping over 20% in 220 days is  0.04016573975174348\n"
     ]
    }
   ],
   "source": [
    "# drop over 20% in 220 days\n",
    "mu220 = 220*mu                    \n",
    "sigma220 = (220**0.5) * sigma       \n",
    "drop20 = norm.cdf(-0.2, mu220, sigma220)\n",
    "print('The probability of dropping over 20% in 220 days is ', drop20)"
   ]
  },
  {
   "cell_type": "markdown",
   "metadata": {},
   "source": [
    "## Calculate Value at risk (VaR)"
   ]
  },
  {
   "cell_type": "code",
   "execution_count": 9,
   "metadata": {},
   "outputs": [
    {
     "name": "stdout",
     "output_type": "stream",
     "text": [
      "Single day value at risk  -0.02976238890023386\n"
     ]
    }
   ],
   "source": [
    "# Value at risk(VaR)\n",
    "\n",
    "VaR = norm.ppf(0.05, mu, sigma)\n",
    "\n",
    "print('Single day value at risk ', VaR)"
   ]
  },
  {
   "cell_type": "markdown",
   "metadata": {},
   "source": [
    "**norm.ppf: Es la función percent point function (PPF), también conocida como la función inversa de la distribución acumulativa (CDF).**\n",
    "\n",
    "Esta función toma un percentil como entrada (en este caso, 0.05) y devuelve el valor de la variable aleatoria (en este caso, el rendimiento) \n",
    "que corresponde a ese percentil bajo una distribución normal con media (mu) y desviación estándar (sigma).\n",
    "\n",
    "En este contexto 0.05 representa el percentil de 5%. Es decir, estamos calculando el valor de la variable (rendimiento) que deja el 5% de los resultados por debajo de él. Este valor corresponde al VaR, que es el límite inferior del 5% de los posibles rendimientos diarios.\n",
    "\n",
    "*Es decir, el VaR indica el pérdida máxima esperada con una probabilidad del 5% en un solo día.*\n"
   ]
  },
  {
   "cell_type": "code",
   "execution_count": 10,
   "metadata": {},
   "outputs": [],
   "source": [
    "# Value at risk(VaR)\n",
    "\n",
    "VaR = norm.ppf(0.95, mu, sigma)\n"
   ]
  },
  {
   "cell_type": "markdown",
   "metadata": {},
   "source": [
    "Si el VaR del 95% de un portafolio es 10.000. Esto significa que en el 95 % de los casos, la pérdida no será mayor a 10.000 en el periodo considerado. En el 5% de los casos restantes, las pérdidas podrían ser mayores a $10,000."
   ]
  },
  {
   "cell_type": "code",
   "execution_count": 11,
   "metadata": {},
   "outputs": [
    {
     "name": "stdout",
     "output_type": "stream",
     "text": [
      "5% quantile  -0.02976238890023386\n",
      "95% quantile  0.03239995353951291\n"
     ]
    }
   ],
   "source": [
    "# Quatile \n",
    "# 5% quantile\n",
    "print('5% quantile ', norm.ppf(0.05, mu, sigma))\n",
    "\n",
    "# 95% quantile\n",
    "print('95% quantile ', norm.ppf(0.95, mu, sigma))"
   ]
  },
  {
   "cell_type": "code",
   "execution_count": 12,
   "metadata": {},
   "outputs": [
    {
     "name": "stdout",
     "output_type": "stream",
     "text": [
      "25% quantile  -0.011426383005951191\n",
      "75% quantile  0.014063947645230253\n"
     ]
    }
   ],
   "source": [
    "# This is your turn to calcuate the 25% and 75% Quantile of the return\n",
    "\n",
    "# 25% quantile\n",
    "q25 = norm.ppf(0.25, mu, sigma)\n",
    "print('25% quantile ', q25)\n",
    "\n",
    "# 75% quantile\n",
    "q75 = norm.ppf(0.75, mu, sigma)\n",
    "print('75% quantile ', q75)"
   ]
  },
  {
   "cell_type": "markdown",
   "metadata": {},
   "source": [
    "🔴 5% cuantil (percentil 5%)\n",
    "Esto significa que el 5% de los días la empresa tuvo ganancias muy bajas o incluso pérdidas. Por ejemplo, si el cuantil del 5% es -500 dólares, significa que en el 5% de los peores días, la empresa perdió al menos 500 dólares. Es decir, en esos días malos, las pérdidas fueron de -500 dólares o incluso peores.\n",
    "\n",
    "🟢 95% cuantil (percentil 95%)\n",
    "Este nos dice que en el 95% de los días la empresa ganó menos que este valor. Si el cuantil del 95% es 1,500 dólares, significa que en el 95% de los días la empresa tuvo ganancias de 1,500 dólares o menos. Solo en el 5% de los días más exitosos, la empresa ganó más de 1,500 dólares."
   ]
  },
  {
   "cell_type": "markdown",
   "metadata": {},
   "source": []
  },
  {
   "cell_type": "code",
   "execution_count": null,
   "metadata": {},
   "outputs": [],
   "source": []
  }
 ],
 "metadata": {
  "kernelspec": {
   "display_name": "Python 3 (ipykernel)",
   "language": "python",
   "name": "python3"
  },
  "language_info": {
   "codemirror_mode": {
    "name": "ipython",
    "version": 3
   },
   "file_extension": ".py",
   "mimetype": "text/x-python",
   "name": "python",
   "nbconvert_exporter": "python",
   "pygments_lexer": "ipython3",
   "version": "3.9.21"
  }
 },
 "nbformat": 4,
 "nbformat_minor": 4
}
