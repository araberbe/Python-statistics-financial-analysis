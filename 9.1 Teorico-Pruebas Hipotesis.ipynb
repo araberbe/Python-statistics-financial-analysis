{
 "cells": [
  {
   "cell_type": "markdown",
   "id": "bc325e27",
   "metadata": {},
   "source": [
    "# **Pruebas de Hipótesis en Estadística**"
   ]
  },
  {
   "cell_type": "markdown",
   "id": "d77f3e23",
   "metadata": {},
   "source": [
    "## **1. Introducción**\n",
    "En estadística inferencial, las pruebas de hipótesis son procedimientos utilizados para tomar decisiones o sacar conclusiones sobre una población a partir de una muestra de datos. Estas pruebas permiten evaluar la validez de una afirmación sobre un parámetro poblacional, basándose en evidencia empírica."
   ]
  },
  {
   "cell_type": "markdown",
   "id": "61ced658-bee5-4b7e-8e26-6b7dbcb57a57",
   "metadata": {},
   "source": [
    "Una prueba de hipótesis se utiliza para evaluar las afirmaciones sobre los parámetros de una población, basándose en una muestra de datos."
   ]
  },
  {
   "cell_type": "markdown",
   "id": "d421c2ab",
   "metadata": {},
   "source": [
    "## **2. Conceptos Clave**"
   ]
  },
  {
   "cell_type": "markdown",
   "id": "5952d0f2-692f-493b-b6a5-730984b75f53",
   "metadata": {},
   "source": [
    "### **2.1 Hipótesis Nula ($H_0$) y Hipótesis Alternativa ($H_A$)**\n",
    "\n",
    "- **Hipótesis Nula ($H_0$)**: Es la suposición inicial que se somete a prueba. Generalmente representa el estado actual, la ausencia de efecto o la igualdad entre grupos.  \n",
    "  $$ H_0: \\mu = \\mu_0 $$\n",
    "\n",
    "  \n",
    "  *La media de la población es igual a un valor específico μ*\n",
    "\n",
    "- **Hipótesis Alternativa ($H_A$)**: Representa un cambio o diferencia significativa respecto a la hipótesis nula. En una prueba bilateral, indica que el parámetro es diferente (mayor o menor) al valor de la hipótesis nula:  \n",
    "  $$ H_A: \\mu \\neq \\mu_0 $$  \n",
    "  *La media de la población es diferente de μ.*\n",
    "\n",
    "En este caso, una prueba bilateral significa que estamos interesados en detectar diferencias en ambos sentidos (mayor o menor), lo que afecta el cálculo del p-valor y la región de rechazo."
   ]
  },
  {
   "cell_type": "markdown",
   "id": "ddfd6ade-2d24-4269-8c83-b29e5d6f3d75",
   "metadata": {},
   "source": [
    "### **2.2 Prueba de Hipótesis y los Tres Escenarios**\n",
    "    \n",
    "**1.1. Prueba de dos colas (Ha: μ ≠ 0)**\n",
    "\n",
    "¿Qué significa? La hipótesis alternativa es que la media poblacional no es igual a 0. Es decir, estamos interesados en si la media se desvía en cualquiera de las dos direcciones, ya sea positiva o negativa.\n",
    "\n",
    "Cálculo del valor p: Cuando se realiza una prueba de dos colas, el valor p se calcula como el área bajo la curva normal (distribución estándar) en ambos lados del valor observado z (la estadística de prueba).\n",
    "\n",
    "**1.2. Prueba de cola superior (Ha: μ > 0)**\n",
    "\n",
    "¿Qué significa? La hipótesis alternativa es que la media poblacional es mayor que 0. En este caso, estamos interesados solo en los valores de la estadística de prueba que caen en la cola superior de la distribución (valores mayores a 0).\n",
    "\n",
    "Cálculo del valor p: En este caso, el valor p se calcula como la probabilidad de que la estadística de prueba sea mayor que el valor observado 𝑧\n",
    "\n",
    "**1.3. Prueba de cola inferior (Ha: μ < 0)**\n",
    "\n",
    "¿Qué significa? La hipótesis alternativa es que la media poblacional es menor que 0. En este caso, estamos interesados solo en los valores de la estadística de prueba que caen en la cola inferior de la distribución (valores menores a 0).\n",
    "\n",
    "Cálculo del valor p: En este caso, el valor p se calcula como la probabilidad de que la estadística de prueba sea menor que el valor observado z"
   ]
  },
  {
   "cell_type": "markdown",
   "id": "a4363e38",
   "metadata": {},
   "source": [
    "### **2.3 Nivel de Significancia ($\\alpha$) y Región Crítica**\n",
    "- **Nivel de significancia ($\\alpha$)**: Probabilidad de cometer un error Tipo I (rechazar $H_0$ cuando es verdadera). Comúnmente se usa $\\alpha = 0.05$ o $\\alpha = 0.01$.\n",
    "- **Región crítica**: Conjunto de valores del estadístico de prueba que llevan al rechazo de $H_0$. Se define por los valores críticos de la distribución correspondiente."
   ]
  },
  {
   "cell_type": "markdown",
   "id": "eb2a8115",
   "metadata": {},
   "source": [
    "## **3. Métodos para Tomar Decisiones en Pruebas de Hipótesis**"
   ]
  },
  {
   "cell_type": "markdown",
   "id": "f3b09080",
   "metadata": {
    "jp-MarkdownHeadingCollapsed": true
   },
   "source": [
    "### **3.1 Método del Estadístico de Prueba**\n",
    "Este método compara el estadístico de prueba con valores críticos de la distribución correspondiente. Nos indica cuántas desviaciones estándar está la media muestral de la media poblacional bajo la hipótesis nula\n",
    "\n",
    "El estadístico de prueba se calcula como:\n",
    "$$ Z_{hat} = \\frac{\\bar{X} - \\mu_0}{\\sigma / \\sqrt{n}} $$\n",
    "Si $Z_{hat}$ está fuera del intervalo crítico, se rechaza $H_0$.\n",
    "\n",
    "Este valor nos permite comparar la diferencia entre la media de la muestra y la media poblacional de manera estandarizada. Si la diferencia entre el valor muestral y el valor poblacional es significativamente grande, esto sugiere que el valor de la muestra es poco probable que provenga de una población cuya media es el valor bajo la hipótesis nula. En otras palabras, podemos rechazar la hipótesis nula.\n",
    "\n",
    "Distribución normal estándar : Es la distribución normal con media 0 y desviación estándar 1.\n",
    "\n",
    "La distribución de la media muestral sigue una distribución normal con un tamaño de muestra muy grande, independientemente de la distribución de la población."
   ]
  },
  {
   "cell_type": "markdown",
   "id": "867409af-77c8-4455-9d25-2f33c1c528d1",
   "metadata": {},
   "source": [
    "### **3.2 ¿Cuando se usa la distribución normal 𝑍 en lugar de la t?**\n",
    "\n",
    "Esto significa que cuando la muestra es grande ( 𝑛 > 30 en general), la distribución muestral de la media sigue aproximadamente una normal (Z) por el Teorema del Límite Central. Si 𝑛 fuera pequeño, se usaría la distribución t de Student, que corrige la mayor variabilidad con muestras pequeñas.\n",
    "\n",
    "\n",
    "\n",
    "\n",
    "\n",
    "\n",
    "\n",
    "En la prueba 𝑍 se usa la desviación estándar poblacional σ, que es un valor conocido.\n",
    "\n",
    "En la prueba 𝑡 se usa la desviación estándar muestral 𝑠 , ya que 𝜎 no es conocida."
   ]
  },
  {
   "cell_type": "markdown",
   "id": "cbd8b5b7-0c9b-4f2e-97fb-45f3d4e3b489",
   "metadata": {},
   "source": [
    "**3.2.1 La distribución t** \n",
    "\n",
    "La distribución t es una distribución simétrica, similar a la distribución z, pero con colas más anchas. Esta forma más ancha significa que tiene más probabilidad de tomar valores extremos.\n",
    "\n",
    "La forma de la distribución t depende de los grados de libertad, que se calculan como n - 1, donde n es el tamaño de la muestra. A medida que aumenta el tamaño de la muestra, la distribución t se va acercando más a la distribución z.\n",
    "\n",
    "Si el tamaño de la muestra es suficientemente grande, podemos tratar la distribución t como si fuera la distribución z."
   ]
  },
  {
   "cell_type": "markdown",
   "id": "a2488f39",
   "metadata": {},
   "source": [
    "### **3.3 Método del p-valor**\n",
    "Se compara el p-valor con el nivel de significancia $\\alpha$:\n",
    "\n",
    "- Si $p\\text{-valor} < \\alpha$, se **rechaza** $H_0$.\n",
    "\n",
    "En este caso, rechazamos la hipótesis nula y decimos que los resultados son estadísticamente significativos, lo que significa que probablemente hay una relación real o efecto en los datos que estamos analizando. Los datos proporcionan suficiente evidencia para concluir que el efecto observado no es aleatorio\n",
    "  \n",
    "- Si $p\\text{-valor} \\geq \\alpha$, **no se rechaza** $H_0$.\n",
    "\n",
    "Esto indica que los resultados observados pueden haber ocurrido por azar (dentro de un rango de probabilidad razonable bajo la hipótesis nula). En este caso, no rechazamos la hipótesis nula y no tenemos suficiente evidencia para afirmar que existe una relación real o efecto en los datos."
   ]
  },
  {
   "cell_type": "markdown",
   "id": "a959f6b4",
   "metadata": {},
   "source": [
    "## **4. Información Adicional**\n",
    "### **4.1 Relación entre Conceptos Clave**\n",
    "| Concepto | Definición | Interpretación | Relación con otros valores |\n",
    "|----------|------------|---------------|----------------|\n",
    "| Nivel de significancia$\\alpha$ | Umbral de error Tipo I - indica la probabilidad máxima de cometer un error tipo I (rechazar Ho) cuando es verdadera. | Si $p < \\alpha$, se rechaza $H_0$. | Se compara con el valor $p$. |\n",
    "| Valor p (p-value) | Probabilidad de obtener un resultado tan extremo (o más) que el valor observado, suponiendo que ( Ho ) es verdadera. | Indica evidencia contra $H_0$. | Se calcula a partir de $z$. |\n",
    "| Valor observado (z-score) | Posición en la distribución normal estándar | Si $z$ es grande, $p$ es pequeño. | Se usa en la distribución normal estándar. |"
   ]
  },
  {
   "cell_type": "markdown",
   "id": "48619838-0fe7-48f5-b37f-6891e4f2db11",
   "metadata": {},
   "source": [
    "- **Error Tipo I** Rechazar la hipótesis nula cuando en realidad es verdadera. La probabilidad de cometer este error es igual al nivel de significancia (α). En este caso, tenemos un 5% de probabilidad de rechazar una hipótesis nula que realmente es cierta.\n",
    "\n",
    "- **Error Tipo II** No rechazar la hipótesis nula cuando en realidad es falsa. La probabilidad de cometer un error de tipo II depende de cuán grande sea la verdadera diferencia entre las medias."
   ]
  },
  {
   "cell_type": "markdown",
   "id": "3924bf40",
   "metadata": {},
   "source": [
    "## **6. Conclusiones**\n",
    "Las pruebas de hipótesis permiten evaluar la validez de afirmaciones sobre poblaciones. Se pueden utilizar dos enfoques equivalentes para la toma de decisiones:\n",
    "1. **El método del estadístico de prueba**, que compara con valores críticos.\n",
    "2. **El método del p-valor**, que compara con el nivel de significancia.\n",
    "\n",
    "Ambos métodos llevan a la misma decisión y son fundamentales en el análisis estadístico."
   ]
  },
  {
   "cell_type": "code",
   "execution_count": null,
   "id": "604ed5bc-245f-46ba-9136-728f422a5225",
   "metadata": {},
   "outputs": [],
   "source": []
  }
 ],
 "metadata": {
  "kernelspec": {
   "display_name": "Python 3 (ipykernel)",
   "language": "python",
   "name": "python3"
  },
  "language_info": {
   "codemirror_mode": {
    "name": "ipython",
    "version": 3
   },
   "file_extension": ".py",
   "mimetype": "text/x-python",
   "name": "python",
   "nbconvert_exporter": "python",
   "pygments_lexer": "ipython3",
   "version": "3.9.21"
  }
 },
 "nbformat": 4,
 "nbformat_minor": 5
}
